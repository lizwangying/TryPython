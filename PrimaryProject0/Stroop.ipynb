{
 "cells": [
  {
   "cell_type": "markdown",
   "metadata": {},
   "source": [
    "# 统计学：决策的科学项目说明\n",
    "![image.png](stroopImage.png)\n",
    "### 背景信息\n",
    "\n",
    "在一个 Stroop （斯特鲁普）任务中，参与者得到了一列文字，每个文字都用一种油墨颜色展示。参与者的任务是将文字的打印颜色大声说出来。这项任务有两个条件：一致文字条件，和不一致文字条件。在一致文字条件中，显示的文字是与它们的打印颜色匹配的颜色词，如“红色”、“蓝色”。在不一致文字条件中，显示的文字是与它们的打印颜色不匹配的颜色词，如“紫色”、“橙色”。在每个情况中，我们将计量说出同等大小的列表中的墨色名称的时间。每位参与者必须全部完成并记录每种条件下使用的时间。"
   ]
  },
  {
   "cell_type": "markdown",
   "metadata": {},
   "source": [
    "### 1.我们的自变量是什么？因变量是什么？     \n",
    "\n",
    "  **自变量**：文字的颜色和文字内容，一致与不一致     \n",
    "  **因变量**：参与者说出墨色名称的时间"
   ]
  },
  {
   "cell_type": "markdown",
   "metadata": {},
   "source": [
    "### 2.此任务的适当假设集是什么？你需要以文字和数学符号方式对假设集中的零假设和对立假设加以说明，并对数学符号进行定义。你想执行什么类型的统计检验？为你的选择提供正当理由（比如，为何该实验满足你所选统计检验的前置条件）。      \n",
    "\n",
    "\n",
    "**适当假设集**：参与者说出墨色的颜色和文字一致或不一致不相关。  \n",
    "**零假设**： 参与者说出墨色与文字一致不相关，两组参与者说出墨色的总体均值相同    \n",
    "**对立假设**： 参与者说出墨色与文字颜色一致相关，墨色不一致的参与者说出墨色消耗的总体均值大于墨色一致的参与者。  \n",
    "    \n",
    "令$\\mu_0$为墨色一致的参与者的说出墨色时间的总体均值，$\\mu_2$为墨色不一致的参与者说出墨色时间的总体均值，相应数学符号表示为：\n",
    "\n",
    "$H_0:\\mu_1-\\mu_2=0$    \n",
    "\n",
    "$H_A:\\mu_1-\\mu_2<0$    \n",
    "\n",
    "\n",
    "\n",
    "本次实验有两组独立样本数据，两组样本的值互相不受影响，所以为独立样本。    \n",
    "使用双样本t检验，（第一次作业提交中，我将第一组当做检验目标，第二组当做实验组，所以以为是单样本 t 检验）   \n",
    "经过观察，发现第一组的平均值14.05大于第二组的平均值22.02，所以假设墨色与文字内容不相同，会增加参与者说出墨色的时间。\n",
    "    "
   ]
  },
  {
   "cell_type": "code",
   "execution_count": 9,
   "metadata": {},
   "outputs": [
    {
     "data": {
      "text/html": [
       "<div>\n",
       "<style>\n",
       "    .dataframe thead tr:only-child th {\n",
       "        text-align: right;\n",
       "    }\n",
       "\n",
       "    .dataframe thead th {\n",
       "        text-align: left;\n",
       "    }\n",
       "\n",
       "    .dataframe tbody tr th {\n",
       "        vertical-align: top;\n",
       "    }\n",
       "</style>\n",
       "<table border=\"1\" class=\"dataframe\">\n",
       "  <thead>\n",
       "    <tr style=\"text-align: right;\">\n",
       "      <th></th>\n",
       "      <th>Congruent</th>\n",
       "      <th>Incongruent</th>\n",
       "    </tr>\n",
       "  </thead>\n",
       "  <tbody>\n",
       "    <tr>\n",
       "      <th>0</th>\n",
       "      <td>12.079</td>\n",
       "      <td>19.278</td>\n",
       "    </tr>\n",
       "    <tr>\n",
       "      <th>1</th>\n",
       "      <td>16.791</td>\n",
       "      <td>18.741</td>\n",
       "    </tr>\n",
       "    <tr>\n",
       "      <th>2</th>\n",
       "      <td>9.564</td>\n",
       "      <td>21.214</td>\n",
       "    </tr>\n",
       "    <tr>\n",
       "      <th>3</th>\n",
       "      <td>8.63</td>\n",
       "      <td>15.687</td>\n",
       "    </tr>\n",
       "    <tr>\n",
       "      <th>4</th>\n",
       "      <td>14.669</td>\n",
       "      <td>22.803</td>\n",
       "    </tr>\n",
       "    <tr>\n",
       "      <th>5</th>\n",
       "      <td>12.238</td>\n",
       "      <td>20.878</td>\n",
       "    </tr>\n",
       "    <tr>\n",
       "      <th>6</th>\n",
       "      <td>14.692</td>\n",
       "      <td>24.572</td>\n",
       "    </tr>\n",
       "    <tr>\n",
       "      <th>7</th>\n",
       "      <td>8.987</td>\n",
       "      <td>17.394</td>\n",
       "    </tr>\n",
       "    <tr>\n",
       "      <th>8</th>\n",
       "      <td>9.401</td>\n",
       "      <td>20.762</td>\n",
       "    </tr>\n",
       "    <tr>\n",
       "      <th>9</th>\n",
       "      <td>14.48</td>\n",
       "      <td>26.282</td>\n",
       "    </tr>\n",
       "    <tr>\n",
       "      <th>10</th>\n",
       "      <td>22.328</td>\n",
       "      <td>24.524</td>\n",
       "    </tr>\n",
       "    <tr>\n",
       "      <th>11</th>\n",
       "      <td>15.298</td>\n",
       "      <td>18.644</td>\n",
       "    </tr>\n",
       "    <tr>\n",
       "      <th>12</th>\n",
       "      <td>15.073</td>\n",
       "      <td>17.51</td>\n",
       "    </tr>\n",
       "    <tr>\n",
       "      <th>13</th>\n",
       "      <td>16.929</td>\n",
       "      <td>20.33</td>\n",
       "    </tr>\n",
       "    <tr>\n",
       "      <th>14</th>\n",
       "      <td>18.2</td>\n",
       "      <td>35.255</td>\n",
       "    </tr>\n",
       "    <tr>\n",
       "      <th>15</th>\n",
       "      <td>12.13</td>\n",
       "      <td>22.158</td>\n",
       "    </tr>\n",
       "    <tr>\n",
       "      <th>16</th>\n",
       "      <td>18.495</td>\n",
       "      <td>25.139</td>\n",
       "    </tr>\n",
       "    <tr>\n",
       "      <th>17</th>\n",
       "      <td>10.639</td>\n",
       "      <td>20.429</td>\n",
       "    </tr>\n",
       "    <tr>\n",
       "      <th>18</th>\n",
       "      <td>11.344</td>\n",
       "      <td>17.425</td>\n",
       "    </tr>\n",
       "    <tr>\n",
       "      <th>19</th>\n",
       "      <td>12.369</td>\n",
       "      <td>34.288</td>\n",
       "    </tr>\n",
       "    <tr>\n",
       "      <th>20</th>\n",
       "      <td>12.944</td>\n",
       "      <td>23.894</td>\n",
       "    </tr>\n",
       "    <tr>\n",
       "      <th>21</th>\n",
       "      <td>14.233</td>\n",
       "      <td>17.96</td>\n",
       "    </tr>\n",
       "    <tr>\n",
       "      <th>22</th>\n",
       "      <td>19.71</td>\n",
       "      <td>22.058</td>\n",
       "    </tr>\n",
       "    <tr>\n",
       "      <th>23</th>\n",
       "      <td>16.004</td>\n",
       "      <td>21.157</td>\n",
       "    </tr>\n",
       "    <tr>\n",
       "      <th>24</th>\n",
       "      <td>NaN</td>\n",
       "      <td>NaN</td>\n",
       "    </tr>\n",
       "    <tr>\n",
       "      <th>25</th>\n",
       "      <td>Congruent Avg:</td>\n",
       "      <td>Incongruent Avg:</td>\n",
       "    </tr>\n",
       "    <tr>\n",
       "      <th>26</th>\n",
       "      <td>14.051125</td>\n",
       "      <td>22.01591667</td>\n",
       "    </tr>\n",
       "  </tbody>\n",
       "</table>\n",
       "</div>"
      ],
      "text/plain": [
       "         Congruent       Incongruent\n",
       "0           12.079            19.278\n",
       "1           16.791            18.741\n",
       "2            9.564            21.214\n",
       "3             8.63            15.687\n",
       "4           14.669            22.803\n",
       "5           12.238            20.878\n",
       "6           14.692            24.572\n",
       "7            8.987            17.394\n",
       "8            9.401            20.762\n",
       "9            14.48            26.282\n",
       "10          22.328            24.524\n",
       "11          15.298            18.644\n",
       "12          15.073             17.51\n",
       "13          16.929             20.33\n",
       "14            18.2            35.255\n",
       "15           12.13            22.158\n",
       "16          18.495            25.139\n",
       "17          10.639            20.429\n",
       "18          11.344            17.425\n",
       "19          12.369            34.288\n",
       "20          12.944            23.894\n",
       "21          14.233             17.96\n",
       "22           19.71            22.058\n",
       "23          16.004            21.157\n",
       "24             NaN               NaN\n",
       "25  Congruent Avg:  Incongruent Avg:\n",
       "26       14.051125       22.01591667"
      ]
     },
     "metadata": {},
     "output_type": "display_data"
    }
   ],
   "source": [
    "import numpy as np\n",
    "import pandas as pd\n",
    "\n",
    "# 数据可视化代码\n",
    "from IPython.display import display\n",
    "%matplotlib inline\n",
    "\n",
    "# 加载数据集\n",
    "in_file = 'stroopdata.csv'\n",
    "full_data = pd.read_csv(in_file)\n",
    "\n",
    "# 显示数据列表\n",
    "display(full_data)"
   ]
  },
  {
   "cell_type": "markdown",
   "metadata": {
    "collapsed": true
   },
   "source": [
    "现在轮到你自行尝试 Stroop 任务了。前往[此链接](https://faculty.washington.edu/chudler/java/ready.html)，其中包含一个基于 Java 的小程序，专门用于执行 Stroop 任务。记录你收到的任务时间（你无需将时间提交到网站）。[现在下载此数据集](https://s3.cn-north-1.amazonaws.com.cn/static-documents/nd002/stroopdata.csv)，其中包含一些任务参与者的结果。数据集的每行包含一名参与者的表现，第一个数字代表他们的一致任务结果，第二个数字代表不一致任务结果。"
   ]
  },
  {
   "cell_type": "markdown",
   "metadata": {
    "collapsed": true
   },
   "source": [
    "### 3.\t报告关于此数据集的一些描述性统计。包含至少一个集中趋势测量和至少一个变异测量。\n",
    "\n",
    "a. 第一组参与者，文字颜色和文字内容一致    \n",
    "    **均值**为： 14.05    \n",
    "    **中位数**为：14.3565    \n",
    "    **众数**为：N/A , 如果时间不保留小数位，众数为12     \n",
    "    **样本标准差**：$S=\\sqrt[]{\\frac{\\sum_{i=0}^{n=24}(x_i-\\bar{x})^2}{n-1}} = 3.56 $       \n",
    "\n",
    "   \n",
    "    \n",
    "b. 第二组参与者，文字颜色和文字内容不一致     \n",
    "    **均值**为： 22.02    \n",
    "    **中位数**为：21.0175    \n",
    "    **众数**为：N/A , 如果时间不保留小数位，众数为20     \n",
    "    **样本标准差**：$S=\\sqrt[]{\\frac{\\sum_{i=0}^{n=24}(x_i-\\bar{x})^2}{n-1}} = 4.8 $  \n",
    "   \n",
    "   \n",
    "    \n",
    "依据提出的数据，将其转换为 Int 再绘制了如下的**箱线图**，因为 float 画总是报错，我目前处理不了"
   ]
  },
  {
   "cell_type": "code",
   "execution_count": 4,
   "metadata": {},
   "outputs": [
    {
     "data": {
      "image/png": "[encoded data removed]",
      "text/plain": [
       "<matplotlib.figure.Figure at 0x115075be0>"
      ]
     },
     "metadata": {},
     "output_type": "display_data"
    }
   ],
   "source": [
    "#首先导入基本的绘图包\n",
    "import matplotlib.pyplot as plt\n",
    "import numpy as np\n",
    "import pandas as pd\n",
    "\n",
    "# 加载数据集\n",
    "in_file = 'intStroop.csv'\n",
    "df = pd.read_csv(in_file)\n",
    "\n",
    "plt.boxplot(x=df.values,labels=df.columns,whis=1.5)\n",
    "plt.show()"
   ]
  },
  {
   "cell_type": "markdown",
   "metadata": {
    "collapsed": true
   },
   "source": [
    "### 4.\t提供显示样本数据分布的一个或两个可视化。用一两句话说明你从图中观察到的结果。\n",
    "\n",
    "**观察结果**：明显文字颜色与文字内容不同的参与者读出墨色颜色的事件远大于一致的参与者，我猜测是人不自觉的读取文字，如果拿这些图片给不认识字的小孩，让孩子说出墨色的颜色，结果应该和第一组用户文字内容和墨色一致的时间相差不多。\n",
    "![stroop](stroop.png)\n"
   ]
  },
  {
   "cell_type": "markdown",
   "metadata": {
    "collapsed": true
   },
   "source": [
    "### 5.\t现在，执行统计测试并报告你的结果。你的置信水平和关键统计值是多少？你是否成功拒绝零假设？对试验任务得出一个结论。结果是否与你的期望一致？\n",
    "\n",
    "\n",
    "审校者您好： 我看了我的 classroom 中，没有找到您说的“统计学和编程练习”，使用Python代码进行相关计算您指是什么？ 这里的开根号运算的我是通过 Python 计算的。我不知道你是想看代码还是想看公式结果？\n",
    "\n",
    "我的classrom截图如下：\n",
    "![classrom](classrom.png)\n"
   ]
  },
  {
   "cell_type": "markdown",
   "metadata": {},
   "source": [
    "### 6.\t可选：你觉得导致所观察到的效应的原因是什么？你是否能想到会取得类似效应的替代或类似任务？进行一些调查研究将有助于你思考这两个问题！  \n",
    "\n",
    "我觉得人们会不自觉的读文字，继而影响我们的行为。"
   ]
  }
 ],
 "metadata": {
  "kernelspec": {
   "display_name": "Python 3",
   "language": "python",
   "name": "python3"
  },
  "language_info": {
   "codemirror_mode": {
    "name": "ipython",
    "version": 3
   },
   "file_extension": ".py",
   "mimetype": "text/x-python",
   "name": "python",
   "nbconvert_exporter": "python",
   "pygments_lexer": "ipython3",
   "version": "3.6.3"
  }
 },
 "nbformat": 4,
 "nbformat_minor": 2
}
